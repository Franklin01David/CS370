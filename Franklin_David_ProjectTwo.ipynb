{
 "cells": [
  {
   "cell_type": "markdown",
   "metadata": {},
   "source": [
    "# Treasure Hunt Game Notebook\n",
    "\n",
    "## Read and Review Your Starter Code\n",
    "The theme of this project is a popular treasure hunt game in which the player needs to find the treasure before the pirate does. While you will not be developing the entire game, you will write the part of the game that represents the intelligent agent, which is a pirate in this case. The pirate will try to find the optimal path to the treasure using deep Q-learning. \n",
    "\n",
    "You have been provided with two Python classes and this notebook to help you with this assignment. The first class, TreasureMaze.py, represents the environment, which includes a maze object defined as a matrix. The second class, GameExperience.py, stores the episodes – that is, all the states that come in between the initial state and the terminal state. This is later used by the agent for learning by experience, called \"exploration\". This notebook shows how to play a game. Your task is to complete the deep Q-learning implementation for which a skeleton implementation has been provided. The code blocks you will need to complete has #TODO as a header.\n",
    "\n",
    "First, read and review the next few code and instruction blocks to understand the code that you have been given."
   ]
  },
  {
   "cell_type": "code",
   "execution_count": 1,
   "metadata": {},
   "outputs": [
    {
     "name": "stderr",
     "output_type": "stream",
     "text": [
      "Using TensorFlow backend.\n"
     ]
    }
   ],
   "source": [
    "from __future__ import print_function\n",
    "import os, sys, time, datetime, json, random\n",
    "import numpy as np\n",
    "from keras.models import Sequential\n",
    "from keras.layers.core import Dense, Activation\n",
    "from keras.optimizers import SGD , Adam, RMSprop\n",
    "from keras.layers.advanced_activations import PReLU\n",
    "import matplotlib.pyplot as plt\n",
    "from TreasureMaze import TreasureMaze\n",
    "from GameExperience import GameExperience\n",
    "%matplotlib inline"
   ]
  },
  {
   "cell_type": "markdown",
   "metadata": {},
   "source": [
    "The following code block contains an 8x8 matrix that will be used as a maze object:"
   ]
  },
  {
   "cell_type": "code",
   "execution_count": 2,
   "metadata": {},
   "outputs": [],
   "source": [
    "maze = np.array([\n",
    "    [ 1.,  0.,  1.,  1.,  1.,  1.,  1.,  1.],\n",
    "    [ 1.,  0.,  1.,  1.,  1.,  0.,  1.,  1.],\n",
    "    [ 1.,  1.,  1.,  1.,  0.,  1.,  0.,  1.],\n",
    "    [ 1.,  1.,  1.,  0.,  1.,  1.,  1.,  1.],\n",
    "    [ 1.,  1.,  0.,  1.,  1.,  1.,  1.,  1.],\n",
    "    [ 1.,  1.,  1.,  0.,  1.,  0.,  0.,  0.],\n",
    "    [ 1.,  1.,  1.,  0.,  1.,  1.,  1.,  1.],\n",
    "    [ 1.,  1.,  1.,  1.,  0.,  1.,  1.,  1.]\n",
    "])"
   ]
  },
  {
   "cell_type": "markdown",
   "metadata": {},
   "source": [
    "This helper function allows a visual representation of the maze object:"
   ]
  },
  {
   "cell_type": "code",
   "execution_count": 3,
   "metadata": {},
   "outputs": [],
   "source": [
    "def show(qmaze):\n",
    "    plt.grid('on')\n",
    "    nrows, ncols = qmaze.maze.shape\n",
    "    ax = plt.gca()\n",
    "    ax.set_xticks(np.arange(0.5, nrows, 1))\n",
    "    ax.set_yticks(np.arange(0.5, ncols, 1))\n",
    "    ax.set_xticklabels([])\n",
    "    ax.set_yticklabels([])\n",
    "    canvas = np.copy(qmaze.maze)\n",
    "    for row,col in qmaze.visited:\n",
    "        canvas[row,col] = 0.6\n",
    "    pirate_row, pirate_col, _ = qmaze.state\n",
    "    canvas[pirate_row, pirate_col] = 0.3   # pirate cell\n",
    "    canvas[nrows-1, ncols-1] = 0.9 # treasure cell\n",
    "    img = plt.imshow(canvas, interpolation='none', cmap='gray')\n",
    "    return img"
   ]
  },
  {
   "cell_type": "markdown",
   "metadata": {},
   "source": [
    "The pirate agent can move in four directions: left, right, up, and down. \n",
    "\n",
    "While the agent primarily learns by experience through exploitation, often, the agent can choose to explore the environment to find previously undiscovered paths. This is called \"exploration\" and is defined by epsilon. This value is typically a lower value such as 0.1, which means for every ten attempts, the agent will attempt to learn by experience nine times and will randomly explore a new path one time. You are encouraged to try various values for the exploration factor and see how the algorithm performs."
   ]
  },
  {
   "cell_type": "code",
   "execution_count": 4,
   "metadata": {},
   "outputs": [],
   "source": [
    "LEFT = 0\n",
    "UP = 1\n",
    "RIGHT = 2\n",
    "DOWN = 3\n",
    "\n",
    "\n",
    "# Exploration factor\n",
    "epsilon = 0.1\n",
    "\n",
    "# Actions dictionary\n",
    "actions_dict = {\n",
    "    LEFT: 'left',\n",
    "    UP: 'up',\n",
    "    RIGHT: 'right',\n",
    "    DOWN: 'down',\n",
    "}\n",
    "\n",
    "num_actions = len(actions_dict)\n"
   ]
  },
  {
   "cell_type": "markdown",
   "metadata": {},
   "source": [
    "The sample code block and output below show creating a maze object and performing one action (DOWN), which returns the reward. The resulting updated environment is visualized."
   ]
  },
  {
   "cell_type": "code",
   "execution_count": 5,
   "metadata": {},
   "outputs": [
    {
     "name": "stdout",
     "output_type": "stream",
     "text": [
      "reward= -0.04\n"
     ]
    },
    {
     "data": {
      "text/plain": [
       "<matplotlib.image.AxesImage at 0x14ac80ae348>"
      ]
     },
     "execution_count": 5,
     "metadata": {},
     "output_type": "execute_result"
    },
    {
     "data": {
      "image/png": "[encoded data removed]",
      "text/plain": [
       "<Figure size 432x288 with 1 Axes>"
      ]
     },
     "metadata": {
      "needs_background": "light"
     },
     "output_type": "display_data"
    }
   ],
   "source": [
    "qmaze = TreasureMaze(maze)\n",
    "canvas, reward, game_over = qmaze.act(DOWN)\n",
    "print(\"reward=\", reward)\n",
    "show(qmaze)"
   ]
  },
  {
   "cell_type": "markdown",
   "metadata": {},
   "source": [
    "This function simulates a full game based on the provided trained model. The other parameters include the TreasureMaze object and the starting position of the pirate."
   ]
  },
  {
   "cell_type": "code",
   "execution_count": 6,
   "metadata": {},
   "outputs": [],
   "source": [
    "def play_game(model, qmaze, pirate_cell):\n",
    "    qmaze.reset(pirate_cell)\n",
    "    envstate = qmaze.observe()\n",
    "    while True:\n",
    "        prev_envstate = envstate\n",
    "        # get next action\n",
    "        q = model.predict(prev_envstate)\n",
    "        action = np.argmax(q[0])\n",
    "\n",
    "        # apply action, get rewards and new state\n",
    "        envstate, reward, game_status = qmaze.act(action)\n",
    "        if game_status == 'win':\n",
    "            return True\n",
    "        elif game_status == 'lose':\n",
    "            return False"
   ]
  },
  {
   "cell_type": "markdown",
   "metadata": {},
   "source": [
    "This function helps you to determine whether the pirate can win any game at all. If your maze is not well designed, the pirate may not win any game at all. In this case, your training would not yield any result. The provided maze in this notebook ensures that there is a path to win and you can run this method to check."
   ]
  },
  {
   "cell_type": "code",
   "execution_count": 7,
   "metadata": {},
   "outputs": [],
   "source": [
    "def completion_check(model, qmaze):\n",
    "    for cell in qmaze.free_cells:\n",
    "        if not qmaze.valid_actions(cell):\n",
    "            return False\n",
    "        if not play_game(model, qmaze, cell):\n",
    "            return False\n",
    "    return True"
   ]
  },
  {
   "cell_type": "markdown",
   "metadata": {},
   "source": [
    "The code you have been given in this block will build the neural network model. Review the code and note the number of layers, as well as the activation, optimizer, and loss functions that are used to train the model."
   ]
  },
  {
   "cell_type": "code",
   "execution_count": 8,
   "metadata": {},
   "outputs": [],
   "source": [
    "def build_model(maze):\n",
    "    model = Sequential()\n",
    "    model.add(Dense(maze.size, input_shape=(maze.size,)))\n",
    "    model.add(PReLU())\n",
    "    model.add(Dense(maze.size))\n",
    "    model.add(PReLU())\n",
    "    model.add(Dense(num_actions))\n",
    "    model.compile(optimizer='adam', loss='mse')\n",
    "    return model"
   ]
  },
  {
   "cell_type": "markdown",
   "metadata": {},
   "source": [
    "# #TODO: Complete the Q-Training Algorithm Code Block\n",
    "\n",
    "This is your deep Q-learning implementation. The goal of your deep Q-learning implementation is to find the best possible navigation sequence that results in reaching the treasure cell while maximizing the reward. In your implementation, you need to determine the optimal number of epochs to achieve a 100% win rate.\n",
    "\n",
    "You will need to complete the section starting with #pseudocode. The pseudocode has been included for you."
   ]
  },
  {
   "cell_type": "code",
   "execution_count": 9,
   "metadata": {},
   "outputs": [],
   "source": [
    "# Helper function to format time\n",
    "def format_time(seconds):\n",
    "    if seconds < 60:\n",
    "        return \"%.1fs\" % seconds\n",
    "    elif seconds < 3600:\n",
    "        return \"%.1fm\" % (seconds / 60)\n",
    "    else:\n",
    "        return \"%.1fh\" % (seconds / 3600)\n"
   ]
  },
  {
   "cell_type": "code",
   "execution_count": 10,
   "metadata": {},
   "outputs": [],
   "source": [
    "def qtrain(model, maze, **opt):\n",
    "    # exploration factor\n",
    "    global epsilon \n",
    "\n",
    "    # number of epochs\n",
    "    n_epoch = opt.get('n_epoch', 15000)\n",
    "    \n",
    "    # maximum memory to store episodes\n",
    "    max_memory = opt.get('max_memory', 1000)\n",
    "    \n",
    "    # maximum data size for training\n",
    "    data_size = opt.get('data_size', 50)\n",
    "    \n",
    "    # start time\n",
    "    start_time = datetime.datetime.now()\n",
    "    \n",
    "    # Construct environment/game from numpy array: maze (see above)\n",
    "    qmaze = TreasureMaze(maze)\n",
    "    \n",
    "    # Initialize experience replay object\n",
    "    experience = GameExperience(model, max_memory=max_memory)\n",
    "    \n",
    "    win_history = []   # history of win/lose game\n",
    "    hsize = qmaze.maze.size // 2   # history window size\n",
    "    win_rate = 0.0\n",
    "    \n",
    "    # MY CODE #\n",
    "    \n",
    "    # Initialize number of episodes\n",
    "    n_episodes = 0\n",
    "    \n",
    "    for epoch in range(n_epoch):\n",
    "        # Randomly select a free cell for the pirate agent\n",
    "        agent_cell = random.choice(qmaze.free_cells)\n",
    "        qmaze.reset(agent_cell)\n",
    "        envstate = qmaze.observe()\n",
    "\n",
    "        # While state is not game over\n",
    "        game_status = ''\n",
    "        while game_status != 'win' and game_status != 'lose':\n",
    "            previous_envstate = envstate\n",
    "            \n",
    "            # Action: choose action based on epsilon-greedy policy\n",
    "            if random.random() < epsilon:\n",
    "                # Exploration: choose random action\n",
    "                action = random.choice(range(num_actions))\n",
    "            else:\n",
    "                # Exploitation: choose best action based on model's Q-values\n",
    "                q = model.predict(previous_envstate)\n",
    "                action = np.argmax(q[0])\n",
    "            \n",
    "            # Apply action, get rewards and new state\n",
    "            envstate, reward, game_status = qmaze.act(action)\n",
    "            \n",
    "            # Store episode in Experience replay object\n",
    "            experience.remember((previous_envstate, action, reward, envstate, game_status))\n",
    "            \n",
    "            # Train model if memory size is large enough\n",
    "            if len(experience.memory) > data_size:\n",
    "                inputs, targets = experience.get_data(data_size)\n",
    "                loss = model.fit(inputs, targets, epochs=1, verbose=0)\n",
    "        \n",
    "        # Increment the episode counter\n",
    "        n_episodes += 1\n",
    "        \n",
    "        # Evaluate the win/lose status for the episode\n",
    "        if game_status == 'win':\n",
    "            win_history.append(1)\n",
    "        else:\n",
    "            win_history.append(0)\n",
    "        \n",
    "        # Calculate the win rate\n",
    "        win_rate = sum(win_history) / len(win_history)\n",
    "        \n",
    "        # Print the epoch status\n",
    "        dt = datetime.datetime.now() - start_time\n",
    "        t = format_time(dt.total_seconds())\n",
    "        \n",
    "        # Access the loss value from the loss history\n",
    "        loss_value = loss.history['loss'][0] if loss.history['loss'] else 0.0\n",
    "        \n",
    "        # Print the training status with correct loss formatting\n",
    "        template = \"Epoch: {:03d}/{:d} | Loss: {:.4f} | Episodes: {:d} | Win count: {:d} | Win rate: {:.3f} | time: {}\"\n",
    "        print(template.format(epoch, n_epoch-1, loss_value, n_episodes, sum(win_history), win_rate, t))\n",
    "        \n",
    "        # Update epsilon value for exploration factor\n",
    "        if win_rate > 0.9:\n",
    "            epsilon = 0.05\n",
    "        \n",
    "        # Check completion: if win rate is high enough, end training\n",
    "        if sum(win_history[-hsize:]) == hsize and completion_check(model, qmaze):\n",
    "            print(\"Reached 100%% win rate at epoch: %d\" % (epoch,))\n",
    "            break\n",
    "    \n",
    "    # Determine the total time for training\n",
    "    dt = datetime.datetime.now() - start_time\n",
    "    seconds = dt.total_seconds()\n",
    "    t = format_time(seconds)\n",
    "    \n",
    "    print(\"n_epoch: %d, max_mem: %d, data: %d, time: %s\" % (n_epoch, max_memory, data_size, t))\n",
    "    return seconds\n"
   ]
  },
  {
   "cell_type": "markdown",
   "metadata": {},
   "source": [
    "## Test Your Model\n",
    "\n",
    "Now we will start testing the deep Q-learning implementation. To begin, select **Cell**, then **Run All** from the menu bar. This will run your notebook. As it runs, you should see output begin to appear beneath the next few cells. The code below creates an instance of TreasureMaze."
   ]
  },
  {
   "cell_type": "code",
   "execution_count": 11,
   "metadata": {},
   "outputs": [
    {
     "data": {
      "text/plain": [
       "<matplotlib.image.AxesImage at 0x14ac94552c8>"
      ]
     },
     "execution_count": 11,
     "metadata": {},
     "output_type": "execute_result"
    },
    {
     "data": {
      "image/png": "[encoded data removed]",
      "text/plain": [
       "<Figure size 432x288 with 1 Axes>"
      ]
     },
     "metadata": {
      "needs_background": "light"
     },
     "output_type": "display_data"
    }
   ],
   "source": [
    "qmaze = TreasureMaze(maze)\n",
    "show(qmaze)"
   ]
  },
  {
   "cell_type": "markdown",
   "metadata": {},
   "source": [
    "In the next code block, you will build your model and train it using deep Q-learning. Note: This step takes several minutes to fully run."
   ]
  },
  {
   "cell_type": "code",
   "execution_count": 12,
   "metadata": {
    "scrolled": true
   },
   "outputs": [
    {
     "name": "stdout",
     "output_type": "stream",
     "text": [
      "Epoch: 000/14999 | Loss: 0.0001 | Episodes: 1 | Win count: 0 | Win rate: 0.000 | time: 12.2s\n",
      "Epoch: 001/14999 | Loss: 0.0002 | Episodes: 2 | Win count: 0 | Win rate: 0.000 | time: 27.2s\n",
      "Epoch: 002/14999 | Loss: 0.0007 | Episodes: 3 | Win count: 0 | Win rate: 0.000 | time: 41.4s\n",
      "Epoch: 003/14999 | Loss: 0.0005 | Episodes: 4 | Win count: 0 | Win rate: 0.000 | time: 52.7s\n",
      "Epoch: 004/14999 | Loss: 0.0013 | Episodes: 5 | Win count: 0 | Win rate: 0.000 | time: 1.1m\n",
      "Epoch: 005/14999 | Loss: 0.0003 | Episodes: 6 | Win count: 0 | Win rate: 0.000 | time: 1.2m\n",
      "Epoch: 006/14999 | Loss: 0.0006 | Episodes: 7 | Win count: 0 | Win rate: 0.000 | time: 1.4m\n",
      "Epoch: 007/14999 | Loss: 0.0017 | Episodes: 8 | Win count: 0 | Win rate: 0.000 | time: 1.6m\n",
      "Epoch: 008/14999 | Loss: 0.0014 | Episodes: 9 | Win count: 0 | Win rate: 0.000 | time: 1.8m\n",
      "Epoch: 009/14999 | Loss: 0.0010 | Episodes: 10 | Win count: 0 | Win rate: 0.000 | time: 2.0m\n",
      "Epoch: 010/14999 | Loss: 0.0018 | Episodes: 11 | Win count: 1 | Win rate: 0.091 | time: 2.1m\n",
      "Epoch: 011/14999 | Loss: 0.0005 | Episodes: 12 | Win count: 1 | Win rate: 0.083 | time: 2.4m\n",
      "Epoch: 012/14999 | Loss: 0.0008 | Episodes: 13 | Win count: 1 | Win rate: 0.077 | time: 2.7m\n",
      "Epoch: 013/14999 | Loss: 0.0016 | Episodes: 14 | Win count: 2 | Win rate: 0.143 | time: 2.7m\n",
      "Epoch: 014/14999 | Loss: 0.0012 | Episodes: 15 | Win count: 2 | Win rate: 0.133 | time: 3.1m\n",
      "Epoch: 015/14999 | Loss: 0.0008 | Episodes: 16 | Win count: 3 | Win rate: 0.188 | time: 3.1m\n",
      "Epoch: 016/14999 | Loss: 0.0010 | Episodes: 17 | Win count: 3 | Win rate: 0.176 | time: 3.5m\n",
      "Epoch: 017/14999 | Loss: 0.0100 | Episodes: 18 | Win count: 3 | Win rate: 0.167 | time: 3.8m\n",
      "Epoch: 018/14999 | Loss: 0.0013 | Episodes: 19 | Win count: 3 | Win rate: 0.158 | time: 4.0m\n",
      "Epoch: 019/14999 | Loss: 0.0109 | Episodes: 20 | Win count: 4 | Win rate: 0.200 | time: 4.1m\n",
      "Epoch: 020/14999 | Loss: 0.0024 | Episodes: 21 | Win count: 5 | Win rate: 0.238 | time: 4.2m\n",
      "Epoch: 021/14999 | Loss: 0.0018 | Episodes: 22 | Win count: 5 | Win rate: 0.227 | time: 4.4m\n",
      "Epoch: 022/14999 | Loss: 0.0011 | Episodes: 23 | Win count: 6 | Win rate: 0.261 | time: 4.4m\n",
      "Epoch: 023/14999 | Loss: 0.0012 | Episodes: 24 | Win count: 7 | Win rate: 0.292 | time: 4.4m\n",
      "Epoch: 024/14999 | Loss: 0.0019 | Episodes: 25 | Win count: 7 | Win rate: 0.280 | time: 4.6m\n",
      "Epoch: 025/14999 | Loss: 0.0043 | Episodes: 26 | Win count: 7 | Win rate: 0.269 | time: 4.8m\n",
      "Epoch: 026/14999 | Loss: 0.0010 | Episodes: 27 | Win count: 7 | Win rate: 0.259 | time: 5.0m\n",
      "Epoch: 027/14999 | Loss: 0.0010 | Episodes: 28 | Win count: 7 | Win rate: 0.250 | time: 5.2m\n",
      "Epoch: 028/14999 | Loss: 0.0008 | Episodes: 29 | Win count: 7 | Win rate: 0.241 | time: 5.4m\n",
      "Epoch: 029/14999 | Loss: 0.0005 | Episodes: 30 | Win count: 8 | Win rate: 0.267 | time: 5.4m\n",
      "Epoch: 030/14999 | Loss: 0.0012 | Episodes: 31 | Win count: 9 | Win rate: 0.290 | time: 5.4m\n",
      "Epoch: 031/14999 | Loss: 0.0012 | Episodes: 32 | Win count: 10 | Win rate: 0.312 | time: 5.4m\n",
      "Epoch: 032/14999 | Loss: 0.0004 | Episodes: 33 | Win count: 10 | Win rate: 0.303 | time: 5.6m\n",
      "Epoch: 033/14999 | Loss: 0.0016 | Episodes: 34 | Win count: 10 | Win rate: 0.294 | time: 5.8m\n",
      "Epoch: 034/14999 | Loss: 0.0012 | Episodes: 35 | Win count: 11 | Win rate: 0.314 | time: 5.8m\n",
      "Epoch: 035/14999 | Loss: 0.0021 | Episodes: 36 | Win count: 12 | Win rate: 0.333 | time: 5.8m\n",
      "Epoch: 036/14999 | Loss: 0.0010 | Episodes: 37 | Win count: 13 | Win rate: 0.351 | time: 6.0m\n",
      "Epoch: 037/14999 | Loss: 0.0013 | Episodes: 38 | Win count: 13 | Win rate: 0.342 | time: 6.2m\n",
      "Epoch: 038/14999 | Loss: 0.0018 | Episodes: 39 | Win count: 13 | Win rate: 0.333 | time: 6.5m\n",
      "Epoch: 039/14999 | Loss: 0.0009 | Episodes: 40 | Win count: 14 | Win rate: 0.350 | time: 6.5m\n",
      "Epoch: 040/14999 | Loss: 0.0007 | Episodes: 41 | Win count: 15 | Win rate: 0.366 | time: 6.5m\n",
      "Epoch: 041/14999 | Loss: 0.0006 | Episodes: 42 | Win count: 15 | Win rate: 0.357 | time: 6.7m\n",
      "Epoch: 042/14999 | Loss: 0.0016 | Episodes: 43 | Win count: 15 | Win rate: 0.349 | time: 6.9m\n",
      "Epoch: 043/14999 | Loss: 0.0014 | Episodes: 44 | Win count: 15 | Win rate: 0.341 | time: 7.1m\n",
      "Epoch: 044/14999 | Loss: 0.0012 | Episodes: 45 | Win count: 15 | Win rate: 0.333 | time: 7.4m\n",
      "Epoch: 045/14999 | Loss: 0.0009 | Episodes: 46 | Win count: 15 | Win rate: 0.326 | time: 7.6m\n",
      "Epoch: 046/14999 | Loss: 0.0011 | Episodes: 47 | Win count: 15 | Win rate: 0.319 | time: 7.8m\n",
      "Epoch: 047/14999 | Loss: 0.0010 | Episodes: 48 | Win count: 15 | Win rate: 0.312 | time: 8.1m\n",
      "Epoch: 048/14999 | Loss: 0.0011 | Episodes: 49 | Win count: 16 | Win rate: 0.327 | time: 8.3m\n",
      "Epoch: 049/14999 | Loss: 0.0015 | Episodes: 50 | Win count: 17 | Win rate: 0.340 | time: 8.4m\n",
      "Epoch: 050/14999 | Loss: 0.0014 | Episodes: 51 | Win count: 17 | Win rate: 0.333 | time: 8.6m\n",
      "Epoch: 051/14999 | Loss: 0.0025 | Episodes: 52 | Win count: 17 | Win rate: 0.327 | time: 8.9m\n",
      "Epoch: 052/14999 | Loss: 0.0016 | Episodes: 53 | Win count: 17 | Win rate: 0.321 | time: 9.2m\n",
      "Epoch: 053/14999 | Loss: 0.0077 | Episodes: 54 | Win count: 18 | Win rate: 0.333 | time: 9.3m\n",
      "Epoch: 054/14999 | Loss: 0.0012 | Episodes: 55 | Win count: 19 | Win rate: 0.345 | time: 9.4m\n",
      "Epoch: 055/14999 | Loss: 0.0011 | Episodes: 56 | Win count: 20 | Win rate: 0.357 | time: 9.5m\n",
      "Epoch: 056/14999 | Loss: 0.0012 | Episodes: 57 | Win count: 20 | Win rate: 0.351 | time: 9.7m\n",
      "Epoch: 057/14999 | Loss: 0.0009 | Episodes: 58 | Win count: 21 | Win rate: 0.362 | time: 9.8m\n",
      "Epoch: 058/14999 | Loss: 0.0010 | Episodes: 59 | Win count: 22 | Win rate: 0.373 | time: 9.8m\n",
      "Epoch: 059/14999 | Loss: 0.0005 | Episodes: 60 | Win count: 22 | Win rate: 0.367 | time: 10.1m\n",
      "Epoch: 060/14999 | Loss: 0.0007 | Episodes: 61 | Win count: 22 | Win rate: 0.361 | time: 10.4m\n",
      "Epoch: 061/14999 | Loss: 0.0011 | Episodes: 62 | Win count: 23 | Win rate: 0.371 | time: 10.4m\n",
      "Epoch: 062/14999 | Loss: 0.0009 | Episodes: 63 | Win count: 24 | Win rate: 0.381 | time: 10.5m\n",
      "Epoch: 063/14999 | Loss: 0.0008 | Episodes: 64 | Win count: 25 | Win rate: 0.391 | time: 10.5m\n",
      "Epoch: 064/14999 | Loss: 0.0007 | Episodes: 65 | Win count: 25 | Win rate: 0.385 | time: 10.8m\n",
      "Epoch: 065/14999 | Loss: 0.0016 | Episodes: 66 | Win count: 26 | Win rate: 0.394 | time: 11.0m\n",
      "Epoch: 066/14999 | Loss: 0.0011 | Episodes: 67 | Win count: 27 | Win rate: 0.403 | time: 11.1m\n",
      "Epoch: 067/14999 | Loss: 0.0015 | Episodes: 68 | Win count: 27 | Win rate: 0.397 | time: 11.4m\n",
      "Epoch: 068/14999 | Loss: 0.0012 | Episodes: 69 | Win count: 28 | Win rate: 0.406 | time: 11.4m\n",
      "Epoch: 069/14999 | Loss: 0.0012 | Episodes: 70 | Win count: 29 | Win rate: 0.414 | time: 11.5m\n",
      "Epoch: 070/14999 | Loss: 0.0020 | Episodes: 71 | Win count: 30 | Win rate: 0.423 | time: 11.5m\n",
      "Epoch: 071/14999 | Loss: 0.0018 | Episodes: 72 | Win count: 30 | Win rate: 0.417 | time: 11.8m\n",
      "Epoch: 072/14999 | Loss: 0.0011 | Episodes: 73 | Win count: 31 | Win rate: 0.425 | time: 11.8m\n",
      "Epoch: 073/14999 | Loss: 0.0009 | Episodes: 74 | Win count: 31 | Win rate: 0.419 | time: 12.1m\n",
      "Epoch: 074/14999 | Loss: 0.0009 | Episodes: 75 | Win count: 32 | Win rate: 0.427 | time: 12.3m\n",
      "Epoch: 075/14999 | Loss: 0.0018 | Episodes: 76 | Win count: 33 | Win rate: 0.434 | time: 12.4m\n",
      "Epoch: 076/14999 | Loss: 0.0012 | Episodes: 77 | Win count: 34 | Win rate: 0.442 | time: 12.6m\n",
      "Epoch: 077/14999 | Loss: 0.0027 | Episodes: 78 | Win count: 35 | Win rate: 0.449 | time: 13.0m\n",
      "Epoch: 078/14999 | Loss: 0.0020 | Episodes: 79 | Win count: 36 | Win rate: 0.456 | time: 13.2m\n",
      "Epoch: 079/14999 | Loss: 0.0019 | Episodes: 80 | Win count: 37 | Win rate: 0.463 | time: 13.4m\n",
      "Epoch: 080/14999 | Loss: 0.0019 | Episodes: 81 | Win count: 38 | Win rate: 0.469 | time: 13.4m\n",
      "Epoch: 081/14999 | Loss: 0.0017 | Episodes: 82 | Win count: 39 | Win rate: 0.476 | time: 13.4m\n",
      "Epoch: 082/14999 | Loss: 0.0022 | Episodes: 83 | Win count: 40 | Win rate: 0.482 | time: 13.6m\n",
      "Epoch: 083/14999 | Loss: 0.0017 | Episodes: 84 | Win count: 41 | Win rate: 0.488 | time: 13.7m\n",
      "Epoch: 084/14999 | Loss: 0.0017 | Episodes: 85 | Win count: 42 | Win rate: 0.494 | time: 13.8m\n",
      "Epoch: 085/14999 | Loss: 0.0017 | Episodes: 86 | Win count: 43 | Win rate: 0.500 | time: 13.8m\n",
      "Epoch: 086/14999 | Loss: 0.0017 | Episodes: 87 | Win count: 44 | Win rate: 0.506 | time: 13.8m\n",
      "Epoch: 087/14999 | Loss: 0.0015 | Episodes: 88 | Win count: 45 | Win rate: 0.511 | time: 13.9m\n",
      "Epoch: 088/14999 | Loss: 0.0018 | Episodes: 89 | Win count: 46 | Win rate: 0.517 | time: 14.0m\n",
      "Epoch: 089/14999 | Loss: 0.0006 | Episodes: 90 | Win count: 47 | Win rate: 0.522 | time: 14.0m\n",
      "Epoch: 090/14999 | Loss: 0.0016 | Episodes: 91 | Win count: 48 | Win rate: 0.527 | time: 14.1m\n",
      "Epoch: 091/14999 | Loss: 0.0014 | Episodes: 92 | Win count: 49 | Win rate: 0.533 | time: 14.2m\n",
      "Epoch: 092/14999 | Loss: 0.0012 | Episodes: 93 | Win count: 50 | Win rate: 0.538 | time: 14.3m\n",
      "Epoch: 093/14999 | Loss: 0.0018 | Episodes: 94 | Win count: 51 | Win rate: 0.543 | time: 14.4m\n",
      "Epoch: 094/14999 | Loss: 0.0013 | Episodes: 95 | Win count: 52 | Win rate: 0.547 | time: 14.4m\n",
      "Epoch: 095/14999 | Loss: 0.0008 | Episodes: 96 | Win count: 53 | Win rate: 0.552 | time: 14.5m\n",
      "Epoch: 096/14999 | Loss: 0.0018 | Episodes: 97 | Win count: 54 | Win rate: 0.557 | time: 14.7m\n",
      "Epoch: 097/14999 | Loss: 0.0018 | Episodes: 98 | Win count: 55 | Win rate: 0.561 | time: 14.8m\n",
      "Epoch: 098/14999 | Loss: 0.0019 | Episodes: 99 | Win count: 56 | Win rate: 0.566 | time: 14.9m\n",
      "Epoch: 099/14999 | Loss: 0.0024 | Episodes: 100 | Win count: 57 | Win rate: 0.570 | time: 14.9m\n",
      "Epoch: 100/14999 | Loss: 0.0020 | Episodes: 101 | Win count: 58 | Win rate: 0.574 | time: 14.9m\n",
      "Epoch: 101/14999 | Loss: 0.0017 | Episodes: 102 | Win count: 59 | Win rate: 0.578 | time: 15.1m\n",
      "Epoch: 102/14999 | Loss: 0.0021 | Episodes: 103 | Win count: 60 | Win rate: 0.583 | time: 15.2m\n",
      "Epoch: 103/14999 | Loss: 0.0029 | Episodes: 104 | Win count: 61 | Win rate: 0.587 | time: 15.2m\n",
      "Epoch: 104/14999 | Loss: 0.0024 | Episodes: 105 | Win count: 62 | Win rate: 0.590 | time: 15.3m\n",
      "Epoch: 105/14999 | Loss: 0.0023 | Episodes: 106 | Win count: 63 | Win rate: 0.594 | time: 15.3m\n",
      "Epoch: 106/14999 | Loss: 0.0014 | Episodes: 107 | Win count: 64 | Win rate: 0.598 | time: 15.4m\n",
      "Epoch: 107/14999 | Loss: 0.0012 | Episodes: 108 | Win count: 65 | Win rate: 0.602 | time: 15.4m\n",
      "Epoch: 108/14999 | Loss: 0.0013 | Episodes: 109 | Win count: 66 | Win rate: 0.606 | time: 15.4m\n",
      "Epoch: 109/14999 | Loss: 0.0015 | Episodes: 110 | Win count: 67 | Win rate: 0.609 | time: 15.5m\n",
      "Epoch: 110/14999 | Loss: 0.0021 | Episodes: 111 | Win count: 68 | Win rate: 0.613 | time: 15.6m\n",
      "Epoch: 111/14999 | Loss: 0.0012 | Episodes: 112 | Win count: 68 | Win rate: 0.607 | time: 15.9m\n",
      "Epoch: 112/14999 | Loss: 0.0006 | Episodes: 113 | Win count: 69 | Win rate: 0.611 | time: 16.1m\n",
      "Epoch: 113/14999 | Loss: 0.0009 | Episodes: 114 | Win count: 70 | Win rate: 0.614 | time: 16.1m\n",
      "Epoch: 114/14999 | Loss: 0.0007 | Episodes: 115 | Win count: 71 | Win rate: 0.617 | time: 16.1m\n",
      "Epoch: 115/14999 | Loss: 0.0005 | Episodes: 116 | Win count: 72 | Win rate: 0.621 | time: 16.2m\n",
      "Epoch: 116/14999 | Loss: 0.0008 | Episodes: 117 | Win count: 73 | Win rate: 0.624 | time: 16.3m\n",
      "Epoch: 117/14999 | Loss: 0.0007 | Episodes: 118 | Win count: 74 | Win rate: 0.627 | time: 16.4m\n",
      "Epoch: 118/14999 | Loss: 0.0013 | Episodes: 119 | Win count: 75 | Win rate: 0.630 | time: 16.4m\n",
      "Epoch: 119/14999 | Loss: 0.0011 | Episodes: 120 | Win count: 76 | Win rate: 0.633 | time: 16.7m\n",
      "Epoch: 120/14999 | Loss: 0.0007 | Episodes: 121 | Win count: 76 | Win rate: 0.628 | time: 16.9m\n",
      "Epoch: 121/14999 | Loss: 0.0010 | Episodes: 122 | Win count: 77 | Win rate: 0.631 | time: 17.0m\n",
      "Epoch: 122/14999 | Loss: 0.0006 | Episodes: 123 | Win count: 78 | Win rate: 0.634 | time: 17.0m\n",
      "Epoch: 123/14999 | Loss: 0.0006 | Episodes: 124 | Win count: 79 | Win rate: 0.637 | time: 17.1m\n",
      "Epoch: 124/14999 | Loss: 0.0010 | Episodes: 125 | Win count: 80 | Win rate: 0.640 | time: 17.1m\n",
      "Epoch: 125/14999 | Loss: 0.0004 | Episodes: 126 | Win count: 81 | Win rate: 0.643 | time: 17.2m\n",
      "Epoch: 126/14999 | Loss: 0.0008 | Episodes: 127 | Win count: 82 | Win rate: 0.646 | time: 17.2m\n",
      "Epoch: 127/14999 | Loss: 0.0002 | Episodes: 128 | Win count: 83 | Win rate: 0.648 | time: 17.3m\n",
      "Epoch: 128/14999 | Loss: 0.0008 | Episodes: 129 | Win count: 84 | Win rate: 0.651 | time: 17.4m\n",
      "Epoch: 129/14999 | Loss: 0.0008 | Episodes: 130 | Win count: 85 | Win rate: 0.654 | time: 17.4m\n",
      "Epoch: 130/14999 | Loss: 0.0004 | Episodes: 131 | Win count: 86 | Win rate: 0.656 | time: 17.5m\n",
      "Epoch: 131/14999 | Loss: 0.0003 | Episodes: 132 | Win count: 87 | Win rate: 0.659 | time: 17.6m\n",
      "Epoch: 132/14999 | Loss: 0.0005 | Episodes: 133 | Win count: 88 | Win rate: 0.662 | time: 17.7m\n",
      "Epoch: 133/14999 | Loss: 0.0004 | Episodes: 134 | Win count: 89 | Win rate: 0.664 | time: 17.8m\n",
      "Epoch: 134/14999 | Loss: 0.0009 | Episodes: 135 | Win count: 90 | Win rate: 0.667 | time: 17.8m\n",
      "Epoch: 135/14999 | Loss: 0.0004 | Episodes: 136 | Win count: 91 | Win rate: 0.669 | time: 17.9m\n",
      "Epoch: 136/14999 | Loss: 0.0004 | Episodes: 137 | Win count: 92 | Win rate: 0.672 | time: 18.0m\n",
      "Epoch: 137/14999 | Loss: 0.0007 | Episodes: 138 | Win count: 93 | Win rate: 0.674 | time: 18.0m\n",
      "Epoch: 138/14999 | Loss: 0.0010 | Episodes: 139 | Win count: 94 | Win rate: 0.676 | time: 18.1m\n",
      "Epoch: 139/14999 | Loss: 0.0013 | Episodes: 140 | Win count: 95 | Win rate: 0.679 | time: 18.1m\n",
      "Epoch: 140/14999 | Loss: 0.0013 | Episodes: 141 | Win count: 96 | Win rate: 0.681 | time: 18.1m\n",
      "Epoch: 141/14999 | Loss: 0.0013 | Episodes: 142 | Win count: 97 | Win rate: 0.683 | time: 18.2m\n",
      "Epoch: 142/14999 | Loss: 0.0009 | Episodes: 143 | Win count: 98 | Win rate: 0.685 | time: 18.3m\n",
      "Epoch: 143/14999 | Loss: 0.0011 | Episodes: 144 | Win count: 99 | Win rate: 0.688 | time: 18.4m\n",
      "Epoch: 144/14999 | Loss: 0.0018 | Episodes: 145 | Win count: 100 | Win rate: 0.690 | time: 18.5m\n",
      "Epoch: 145/14999 | Loss: 0.0012 | Episodes: 146 | Win count: 101 | Win rate: 0.692 | time: 18.6m\n",
      "Epoch: 146/14999 | Loss: 0.0012 | Episodes: 147 | Win count: 102 | Win rate: 0.694 | time: 18.6m\n",
      "Epoch: 147/14999 | Loss: 0.0009 | Episodes: 148 | Win count: 103 | Win rate: 0.696 | time: 18.6m\n",
      "Epoch: 148/14999 | Loss: 0.0016 | Episodes: 149 | Win count: 104 | Win rate: 0.698 | time: 18.7m\n",
      "Epoch: 149/14999 | Loss: 0.0007 | Episodes: 150 | Win count: 105 | Win rate: 0.700 | time: 18.7m\n",
      "Epoch: 150/14999 | Loss: 0.0007 | Episodes: 151 | Win count: 106 | Win rate: 0.702 | time: 18.8m\n",
      "Epoch: 151/14999 | Loss: 0.0014 | Episodes: 152 | Win count: 107 | Win rate: 0.704 | time: 18.8m\n",
      "Epoch: 152/14999 | Loss: 0.0014 | Episodes: 153 | Win count: 108 | Win rate: 0.706 | time: 18.8m\n",
      "Epoch: 153/14999 | Loss: 0.0009 | Episodes: 154 | Win count: 109 | Win rate: 0.708 | time: 18.9m\n",
      "Epoch: 154/14999 | Loss: 0.0010 | Episodes: 155 | Win count: 110 | Win rate: 0.710 | time: 18.9m\n",
      "Epoch: 155/14999 | Loss: 0.0007 | Episodes: 156 | Win count: 111 | Win rate: 0.712 | time: 18.9m\n",
      "Epoch: 156/14999 | Loss: 0.0009 | Episodes: 157 | Win count: 112 | Win rate: 0.713 | time: 18.9m\n",
      "Epoch: 157/14999 | Loss: 0.0011 | Episodes: 158 | Win count: 113 | Win rate: 0.715 | time: 18.9m\n",
      "Epoch: 158/14999 | Loss: 0.0017 | Episodes: 159 | Win count: 114 | Win rate: 0.717 | time: 19.0m\n",
      "Epoch: 159/14999 | Loss: 0.0013 | Episodes: 160 | Win count: 115 | Win rate: 0.719 | time: 19.1m\n",
      "Epoch: 160/14999 | Loss: 0.0009 | Episodes: 161 | Win count: 116 | Win rate: 0.720 | time: 19.2m\n",
      "Epoch: 161/14999 | Loss: 0.0016 | Episodes: 162 | Win count: 117 | Win rate: 0.722 | time: 19.2m\n",
      "Epoch: 162/14999 | Loss: 0.0014 | Episodes: 163 | Win count: 118 | Win rate: 0.724 | time: 19.2m\n",
      "Epoch: 163/14999 | Loss: 0.0010 | Episodes: 164 | Win count: 119 | Win rate: 0.726 | time: 19.2m\n",
      "Epoch: 164/14999 | Loss: 0.0015 | Episodes: 165 | Win count: 120 | Win rate: 0.727 | time: 19.3m\n",
      "Epoch: 165/14999 | Loss: 0.0014 | Episodes: 166 | Win count: 121 | Win rate: 0.729 | time: 19.4m\n",
      "Epoch: 166/14999 | Loss: 0.0012 | Episodes: 167 | Win count: 122 | Win rate: 0.731 | time: 19.4m\n",
      "Epoch: 167/14999 | Loss: 0.0006 | Episodes: 168 | Win count: 123 | Win rate: 0.732 | time: 19.5m\n",
      "Epoch: 168/14999 | Loss: 0.0012 | Episodes: 169 | Win count: 124 | Win rate: 0.734 | time: 19.5m\n",
      "Epoch: 169/14999 | Loss: 0.0008 | Episodes: 170 | Win count: 125 | Win rate: 0.735 | time: 19.6m\n",
      "Epoch: 170/14999 | Loss: 0.0018 | Episodes: 171 | Win count: 126 | Win rate: 0.737 | time: 19.6m\n",
      "Epoch: 171/14999 | Loss: 0.0006 | Episodes: 172 | Win count: 127 | Win rate: 0.738 | time: 19.8m\n",
      "Epoch: 172/14999 | Loss: 0.0010 | Episodes: 173 | Win count: 128 | Win rate: 0.740 | time: 19.8m\n",
      "Epoch: 173/14999 | Loss: 0.0008 | Episodes: 174 | Win count: 129 | Win rate: 0.741 | time: 19.8m\n",
      "Epoch: 174/14999 | Loss: 0.0015 | Episodes: 175 | Win count: 130 | Win rate: 0.743 | time: 19.9m\n",
      "Epoch: 175/14999 | Loss: 0.0008 | Episodes: 176 | Win count: 131 | Win rate: 0.744 | time: 19.9m\n",
      "Epoch: 176/14999 | Loss: 0.0012 | Episodes: 177 | Win count: 132 | Win rate: 0.746 | time: 19.9m\n",
      "Epoch: 177/14999 | Loss: 0.0014 | Episodes: 178 | Win count: 133 | Win rate: 0.747 | time: 19.9m\n",
      "Epoch: 178/14999 | Loss: 0.0015 | Episodes: 179 | Win count: 134 | Win rate: 0.749 | time: 20.0m\n",
      "Epoch: 179/14999 | Loss: 0.0012 | Episodes: 180 | Win count: 135 | Win rate: 0.750 | time: 20.0m\n",
      "Epoch: 180/14999 | Loss: 0.0012 | Episodes: 181 | Win count: 136 | Win rate: 0.751 | time: 20.1m\n",
      "Epoch: 181/14999 | Loss: 0.0007 | Episodes: 182 | Win count: 137 | Win rate: 0.753 | time: 20.1m\n",
      "Epoch: 182/14999 | Loss: 0.0014 | Episodes: 183 | Win count: 138 | Win rate: 0.754 | time: 20.1m\n",
      "Epoch: 183/14999 | Loss: 0.0011 | Episodes: 184 | Win count: 139 | Win rate: 0.755 | time: 20.1m\n",
      "Epoch: 184/14999 | Loss: 0.0009 | Episodes: 185 | Win count: 140 | Win rate: 0.757 | time: 20.2m\n",
      "Epoch: 185/14999 | Loss: 0.0009 | Episodes: 186 | Win count: 141 | Win rate: 0.758 | time: 20.3m\n",
      "Epoch: 186/14999 | Loss: 0.0008 | Episodes: 187 | Win count: 142 | Win rate: 0.759 | time: 20.3m\n",
      "Epoch: 187/14999 | Loss: 0.0009 | Episodes: 188 | Win count: 143 | Win rate: 0.761 | time: 20.4m\n",
      "Epoch: 188/14999 | Loss: 0.0009 | Episodes: 189 | Win count: 144 | Win rate: 0.762 | time: 20.4m\n",
      "Epoch: 189/14999 | Loss: 0.0006 | Episodes: 190 | Win count: 145 | Win rate: 0.763 | time: 20.5m\n",
      "Epoch: 190/14999 | Loss: 0.0007 | Episodes: 191 | Win count: 146 | Win rate: 0.764 | time: 20.5m\n",
      "Epoch: 191/14999 | Loss: 0.0004 | Episodes: 192 | Win count: 147 | Win rate: 0.766 | time: 20.6m\n",
      "Epoch: 192/14999 | Loss: 0.0004 | Episodes: 193 | Win count: 148 | Win rate: 0.767 | time: 20.6m\n",
      "Epoch: 193/14999 | Loss: 0.0013 | Episodes: 194 | Win count: 149 | Win rate: 0.768 | time: 20.6m\n",
      "Epoch: 194/14999 | Loss: 0.0011 | Episodes: 195 | Win count: 150 | Win rate: 0.769 | time: 20.7m\n",
      "Epoch: 195/14999 | Loss: 0.0005 | Episodes: 196 | Win count: 151 | Win rate: 0.770 | time: 20.8m\n",
      "Epoch: 196/14999 | Loss: 0.0006 | Episodes: 197 | Win count: 152 | Win rate: 0.772 | time: 20.8m\n",
      "Epoch: 197/14999 | Loss: 0.0014 | Episodes: 198 | Win count: 153 | Win rate: 0.773 | time: 20.9m\n",
      "Epoch: 198/14999 | Loss: 0.0009 | Episodes: 199 | Win count: 154 | Win rate: 0.774 | time: 20.9m\n",
      "Epoch: 199/14999 | Loss: 0.0012 | Episodes: 200 | Win count: 155 | Win rate: 0.775 | time: 20.9m\n",
      "Epoch: 200/14999 | Loss: 0.0005 | Episodes: 201 | Win count: 156 | Win rate: 0.776 | time: 21.0m\n",
      "Epoch: 201/14999 | Loss: 0.0005 | Episodes: 202 | Win count: 157 | Win rate: 0.777 | time: 21.0m\n",
      "Epoch: 202/14999 | Loss: 0.0010 | Episodes: 203 | Win count: 158 | Win rate: 0.778 | time: 21.1m\n",
      "Epoch: 203/14999 | Loss: 0.0005 | Episodes: 204 | Win count: 159 | Win rate: 0.779 | time: 21.1m\n",
      "Reached 100% win rate at epoch: 203\n",
      "n_epoch: 15000, max_mem: 512, data: 32, time: 21.1m\n"
     ]
    },
    {
     "data": {
      "text/plain": [
       "1267.929783"
      ]
     },
     "execution_count": 12,
     "metadata": {},
     "output_type": "execute_result"
    }
   ],
   "source": [
    "model = build_model(maze)\n",
    "qtrain(model, maze, epochs=1000, max_memory=8*maze.size, data_size=32)"
   ]
  },
  {
   "cell_type": "markdown",
   "metadata": {},
   "source": [
    "This cell will check to see if the model passes the completion check. Note: This could take several minutes."
   ]
  },
  {
   "cell_type": "code",
   "execution_count": 13,
   "metadata": {},
   "outputs": [
    {
     "data": {
      "text/plain": [
       "<matplotlib.image.AxesImage at 0x14acb78eb88>"
      ]
     },
     "execution_count": 13,
     "metadata": {},
     "output_type": "execute_result"
    },
    {
     "data": {
      "image/png": "[encoded data removed]",
      "text/plain": [
       "<Figure size 432x288 with 1 Axes>"
      ]
     },
     "metadata": {
      "needs_background": "light"
     },
     "output_type": "display_data"
    }
   ],
   "source": [
    "completion_check(model, qmaze)\n",
    "show(qmaze)"
   ]
  },
  {
   "cell_type": "markdown",
   "metadata": {},
   "source": [
    "This cell will test your model for one game. It will start the pirate at the top-left corner and run play_game. The agent should find a path from the starting position to the target (treasure). The treasure is located in the bottom-right corner."
   ]
  },
  {
   "cell_type": "code",
   "execution_count": 14,
   "metadata": {},
   "outputs": [
    {
     "data": {
      "text/plain": [
       "<matplotlib.image.AxesImage at 0x14acb556b48>"
      ]
     },
     "execution_count": 14,
     "metadata": {},
     "output_type": "execute_result"
    },
    {
     "data": {
      "image/png": "[encoded data removed]",
      "text/plain": [
       "<Figure size 432x288 with 1 Axes>"
      ]
     },
     "metadata": {
      "needs_background": "light"
     },
     "output_type": "display_data"
    }
   ],
   "source": [
    "pirate_start = (0, 0)\n",
    "play_game(model, qmaze, pirate_start)\n",
    "show(qmaze)"
   ]
  },
  {
   "cell_type": "markdown",
   "metadata": {},
   "source": [
    "## Save and Submit Your Work\n",
    "After you have finished creating the code for your notebook, save your work. Make sure that your notebook contains your name in the filename (e.g. Doe_Jane_ProjectTwo.ipynb). This will help your instructor access and grade your work easily. Download a copy of your IPYNB file and submit it to Brightspace. Refer to the Jupyter Notebook in Apporto Tutorial if you need help with these tasks."
   ]
  }
 ],
 "metadata": {
  "kernelspec": {
   "display_name": "Python 3",
   "language": "python",
   "name": "python3"
  },
  "language_info": {
   "codemirror_mode": {
    "name": "ipython",
    "version": 3
   },
   "file_extension": ".py",
   "mimetype": "text/x-python",
   "name": "python",
   "nbconvert_exporter": "python",
   "pygments_lexer": "ipython3",
   "version": "3.7.4"
  }
 },
 "nbformat": 4,
 "nbformat_minor": 2
}
